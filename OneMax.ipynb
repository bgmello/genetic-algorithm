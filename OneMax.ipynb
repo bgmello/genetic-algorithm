{
 "cells": [
  {
   "cell_type": "code",
   "execution_count": 1,
   "metadata": {},
   "outputs": [],
   "source": [
    "import random\n",
    "import numpy as np"
   ]
  },
  {
   "cell_type": "code",
   "execution_count": 55,
   "metadata": {},
   "outputs": [],
   "source": [
    "def gerar_individuo(qte_genes):\n",
    "    return np.random.randint(0,2, size=[qte_genes])"
   ]
  },
  {
   "cell_type": "code",
   "execution_count": 61,
   "metadata": {},
   "outputs": [],
   "source": [
    "def gerar_populacao(tam_pop, qte_genes):\n",
    "    return np.array([gerar_individuo(qte_genes) for _ in range(tam_pop)])"
   ]
  },
  {
   "cell_type": "code",
   "execution_count": 62,
   "metadata": {},
   "outputs": [],
   "source": [
    "def fitness(ind):\n",
    "    return np.sum(ind)"
   ]
  },
  {
   "cell_type": "code",
   "execution_count": 117,
   "metadata": {},
   "outputs": [],
   "source": [
    "pop = gerar_populacao(10,10)"
   ]
  },
  {
   "cell_type": "code",
   "execution_count": 118,
   "metadata": {},
   "outputs": [],
   "source": [
    "def selecionar_pais(pop, tam_pop, k=3):\n",
    "    '''\n",
    "    TORNEIO\n",
    "    '''\n",
    "    pais = []\n",
    "    for torneio in range(tam_pop):\n",
    "        idx = np.random.randint(0, tam_pop, size=k)\n",
    "        g_idx = np.argmax(np.apply_along_axis(np.sum, axis=1, arr=pop[idx]))\n",
    "        pais.append(pop[idx][g_idx])\n",
    "        \n",
    "    return np.array(pais)"
   ]
  },
  {
   "cell_type": "code",
   "execution_count": 119,
   "metadata": {},
   "outputs": [
    {
     "name": "stdout",
     "output_type": "stream",
     "text": [
      "[[0 1 0 0 0 0 0 1 0 1]\n",
      " [1 0 1 0 0 0 0 1 0 1]\n",
      " [0 0 1 0 0 1 0 0 0 0]\n",
      " [1 0 1 0 0 1 0 1 0 1]\n",
      " [0 0 0 1 1 0 1 1 0 1]\n",
      " [0 0 1 0 0 1 1 1 0 1]\n",
      " [1 0 1 1 1 1 0 0 0 0]\n",
      " [0 0 0 1 1 0 0 0 1 0]\n",
      " [0 0 0 1 0 0 1 1 0 0]\n",
      " [0 1 1 1 1 0 0 1 1 1]]\n"
     ]
    }
   ],
   "source": [
    "print(pop)"
   ]
  },
  {
   "cell_type": "code",
   "execution_count": 120,
   "metadata": {},
   "outputs": [],
   "source": [
    "pais = selecionar_pais(pop, tam_pop=10, k=3)"
   ]
  },
  {
   "cell_type": "code",
   "execution_count": 135,
   "metadata": {},
   "outputs": [],
   "source": [
    "def gerar_filhos(pais, tam_pop, taxa_crossover=0.7):\n",
    "    nova_pop = []\n",
    "    \n",
    "    for i in range(tam_pop//2):\n",
    "        pai1 = random.choice(pais)\n",
    "        pai2 = random.choice(pais)\n",
    "        \n",
    "        if random.random() < taxa_crossover:\n",
    "            corte = random.randint(1, len(pai1)-1)\n",
    "            filho1 = np.concatenate((pai1[:corte],pai2[corte:]))\n",
    "            filho2 = np.concatenate((pai2[:corte], pai1[corte:]))\n",
    "            nova_pop.append(filho1)\n",
    "            nova_pop.append(filho2)\n",
    "            \n",
    "        else:\n",
    "            nova_pop.append(pai1)\n",
    "            nova_pop.append(pai2)\n",
    "            \n",
    "    return nova_pop"
   ]
  },
  {
   "cell_type": "code",
   "execution_count": 137,
   "metadata": {},
   "outputs": [],
   "source": [
    "def mutacao(pop, tam_pop, qte_genes, taxa_mutacao=0.005):\n",
    "    nova_pop = []\n",
    "    for i in range(tam_pop):\n",
    "        individuo = []\n",
    "        for j in range(qte_genes):\n",
    "            if random.random() < taxa_mutacao:\n",
    "                if pop[i][j] == 0:\n",
    "                    individuo.append(1)\n",
    "                else:\n",
    "                    individuo.append(0)\n",
    "            else:\n",
    "                individuo.append(pop[i][j])\n",
    "            \n",
    "        nova_pop.append(np.array(individuo))\n",
    "        \n",
    "    return np.array(nova_pop)"
   ]
  },
  {
   "cell_type": "code",
   "execution_count": 141,
   "metadata": {},
   "outputs": [],
   "source": [
    "tam_pop = 10\n",
    "qte_genes=50\n",
    "taxa_crossover = 0.7\n",
    "pop = gerar_populacao(tam_pop, qte_genes)\n",
    "for i in range(1000):\n",
    "    pais = selecionar_pais(pop, tam_pop)\n",
    "    pop = gerar_filhos(pais, tam_pop)\n",
    "    pop = mutacao(pop, tam_pop, qte_genes)"
   ]
  },
  {
   "cell_type": "code",
   "execution_count": 142,
   "metadata": {},
   "outputs": [
    {
     "data": {
      "text/plain": [
       "array([[1, 1, 1, 1, 1, 1, 1, 1, 1, 1, 1, 1, 1, 1, 1, 1, 1, 1, 1, 1, 1, 1,\n",
       "        1, 1, 1, 1, 1, 1, 1, 1, 1, 1, 1, 1, 1, 1, 1, 1, 1, 1, 1, 1, 1, 1,\n",
       "        1, 1, 1, 1, 1, 1],\n",
       "       [1, 1, 1, 1, 1, 1, 1, 1, 1, 1, 0, 1, 1, 1, 1, 1, 1, 1, 1, 1, 1, 1,\n",
       "        1, 1, 1, 1, 1, 1, 1, 1, 1, 1, 1, 1, 1, 1, 1, 1, 1, 1, 1, 1, 1, 1,\n",
       "        1, 1, 1, 1, 1, 1],\n",
       "       [1, 1, 1, 1, 1, 1, 1, 1, 1, 1, 1, 1, 1, 1, 1, 1, 1, 1, 1, 1, 1, 1,\n",
       "        1, 1, 1, 1, 1, 1, 1, 1, 1, 1, 1, 1, 1, 1, 1, 1, 1, 1, 1, 1, 1, 1,\n",
       "        1, 1, 1, 1, 1, 1],\n",
       "       [1, 1, 1, 1, 1, 1, 1, 1, 1, 1, 1, 1, 1, 1, 1, 1, 1, 1, 1, 1, 1, 1,\n",
       "        1, 1, 1, 1, 1, 1, 1, 1, 1, 1, 1, 1, 1, 1, 1, 1, 1, 1, 1, 1, 1, 1,\n",
       "        1, 1, 1, 1, 1, 1],\n",
       "       [1, 1, 1, 1, 1, 1, 1, 1, 1, 1, 1, 1, 1, 1, 1, 1, 1, 1, 1, 1, 1, 1,\n",
       "        1, 1, 1, 1, 1, 1, 1, 1, 1, 1, 1, 1, 1, 1, 1, 1, 1, 1, 1, 1, 1, 1,\n",
       "        1, 1, 1, 1, 1, 1],\n",
       "       [1, 1, 1, 1, 1, 1, 1, 1, 1, 1, 1, 1, 1, 1, 1, 1, 1, 1, 1, 1, 1, 1,\n",
       "        1, 1, 1, 1, 1, 1, 1, 1, 1, 1, 1, 1, 1, 1, 1, 1, 1, 1, 1, 1, 1, 1,\n",
       "        1, 1, 1, 1, 1, 1],\n",
       "       [1, 1, 1, 1, 1, 1, 1, 1, 1, 1, 1, 1, 1, 1, 1, 1, 1, 1, 1, 1, 1, 1,\n",
       "        1, 1, 1, 1, 1, 1, 1, 1, 1, 1, 1, 1, 1, 1, 1, 1, 1, 1, 1, 1, 1, 1,\n",
       "        1, 1, 1, 1, 1, 1],\n",
       "       [1, 1, 1, 1, 1, 1, 1, 1, 1, 1, 1, 1, 1, 1, 1, 1, 1, 1, 1, 1, 1, 1,\n",
       "        1, 1, 1, 1, 1, 1, 1, 1, 0, 1, 1, 1, 1, 1, 1, 1, 1, 1, 1, 1, 1, 1,\n",
       "        1, 1, 1, 1, 1, 1],\n",
       "       [1, 1, 1, 1, 1, 1, 1, 1, 1, 1, 1, 1, 1, 1, 1, 1, 1, 1, 1, 1, 1, 1,\n",
       "        1, 1, 1, 1, 1, 1, 1, 1, 1, 1, 1, 1, 1, 1, 1, 1, 1, 1, 1, 1, 1, 1,\n",
       "        1, 1, 1, 1, 1, 1],\n",
       "       [1, 1, 1, 1, 1, 1, 1, 1, 1, 1, 1, 1, 1, 1, 1, 1, 1, 1, 1, 1, 1, 1,\n",
       "        1, 1, 1, 1, 1, 1, 1, 1, 1, 1, 1, 1, 1, 1, 1, 1, 1, 1, 1, 1, 1, 1,\n",
       "        1, 1, 1, 1, 1, 1]])"
      ]
     },
     "execution_count": 142,
     "metadata": {},
     "output_type": "execute_result"
    }
   ],
   "source": [
    "pop"
   ]
  },
  {
   "cell_type": "code",
   "execution_count": null,
   "metadata": {},
   "outputs": [],
   "source": []
  }
 ],
 "metadata": {
  "kernelspec": {
   "display_name": "Python 3",
   "language": "python",
   "name": "python3"
  },
  "language_info": {
   "codemirror_mode": {
    "name": "ipython",
    "version": 3
   },
   "file_extension": ".py",
   "mimetype": "text/x-python",
   "name": "python",
   "nbconvert_exporter": "python",
   "pygments_lexer": "ipython3",
   "version": "3.7.1"
  }
 },
 "nbformat": 4,
 "nbformat_minor": 2
}
