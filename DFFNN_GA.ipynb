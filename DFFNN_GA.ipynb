{
 "cells": [
  {
   "cell_type": "markdown",
   "metadata": {},
   "source": [
    "The dataset used on this notebook can be found <a href=\"https://www.kaggle.com/uciml/iris\">here</a>"
   ]
  },
  {
   "cell_type": "code",
   "execution_count": 14,
   "metadata": {},
   "outputs": [],
   "source": [
    "import pandas as pd\n",
    "import numpy as np\n",
    "import matplotlib.pyplot as plt"
   ]
  },
  {
   "cell_type": "code",
   "execution_count": 4,
   "metadata": {},
   "outputs": [],
   "source": [
    "data = pd.read_csv('iris.csv')"
   ]
  },
  {
   "cell_type": "code",
   "execution_count": 5,
   "metadata": {},
   "outputs": [
    {
     "data": {
      "text/html": [
       "<div>\n",
       "<style scoped>\n",
       "    .dataframe tbody tr th:only-of-type {\n",
       "        vertical-align: middle;\n",
       "    }\n",
       "\n",
       "    .dataframe tbody tr th {\n",
       "        vertical-align: top;\n",
       "    }\n",
       "\n",
       "    .dataframe thead th {\n",
       "        text-align: right;\n",
       "    }\n",
       "</style>\n",
       "<table border=\"1\" class=\"dataframe\">\n",
       "  <thead>\n",
       "    <tr style=\"text-align: right;\">\n",
       "      <th></th>\n",
       "      <th>Id</th>\n",
       "      <th>SepalLengthCm</th>\n",
       "      <th>SepalWidthCm</th>\n",
       "      <th>PetalLengthCm</th>\n",
       "      <th>PetalWidthCm</th>\n",
       "      <th>Species</th>\n",
       "    </tr>\n",
       "  </thead>\n",
       "  <tbody>\n",
       "    <tr>\n",
       "      <th>0</th>\n",
       "      <td>1</td>\n",
       "      <td>5.1</td>\n",
       "      <td>3.5</td>\n",
       "      <td>1.4</td>\n",
       "      <td>0.2</td>\n",
       "      <td>Iris-setosa</td>\n",
       "    </tr>\n",
       "    <tr>\n",
       "      <th>1</th>\n",
       "      <td>2</td>\n",
       "      <td>4.9</td>\n",
       "      <td>3.0</td>\n",
       "      <td>1.4</td>\n",
       "      <td>0.2</td>\n",
       "      <td>Iris-setosa</td>\n",
       "    </tr>\n",
       "    <tr>\n",
       "      <th>2</th>\n",
       "      <td>3</td>\n",
       "      <td>4.7</td>\n",
       "      <td>3.2</td>\n",
       "      <td>1.3</td>\n",
       "      <td>0.2</td>\n",
       "      <td>Iris-setosa</td>\n",
       "    </tr>\n",
       "    <tr>\n",
       "      <th>3</th>\n",
       "      <td>4</td>\n",
       "      <td>4.6</td>\n",
       "      <td>3.1</td>\n",
       "      <td>1.5</td>\n",
       "      <td>0.2</td>\n",
       "      <td>Iris-setosa</td>\n",
       "    </tr>\n",
       "    <tr>\n",
       "      <th>4</th>\n",
       "      <td>5</td>\n",
       "      <td>5.0</td>\n",
       "      <td>3.6</td>\n",
       "      <td>1.4</td>\n",
       "      <td>0.2</td>\n",
       "      <td>Iris-setosa</td>\n",
       "    </tr>\n",
       "  </tbody>\n",
       "</table>\n",
       "</div>"
      ],
      "text/plain": [
       "   Id  SepalLengthCm  SepalWidthCm  PetalLengthCm  PetalWidthCm      Species\n",
       "0   1            5.1           3.5            1.4           0.2  Iris-setosa\n",
       "1   2            4.9           3.0            1.4           0.2  Iris-setosa\n",
       "2   3            4.7           3.2            1.3           0.2  Iris-setosa\n",
       "3   4            4.6           3.1            1.5           0.2  Iris-setosa\n",
       "4   5            5.0           3.6            1.4           0.2  Iris-setosa"
      ]
     },
     "execution_count": 5,
     "metadata": {},
     "output_type": "execute_result"
    }
   ],
   "source": [
    "data.head()"
   ]
  },
  {
   "cell_type": "code",
   "execution_count": 6,
   "metadata": {},
   "outputs": [],
   "source": [
    "data.SepalLengthCm /= data.SepalLengthCm.max()\n",
    "data.PetalLengthCm /= data.PetalLengthCm.max()\n",
    "data.SepalWidthCm /= data.SepalWidthCm.max()\n",
    "data.PetalWidthCm /= data.PetalWidthCm.max()"
   ]
  },
  {
   "cell_type": "code",
   "execution_count": 7,
   "metadata": {},
   "outputs": [],
   "source": [
    "def matrices_to_vector(matrices):\n",
    "    vec = list()\n",
    "    for matrix in matrices:\n",
    "        vec.append(matrix.reshape(1, -1))\n",
    "    return np.array(vec).reshape(1, -1)"
   ]
  },
  {
   "cell_type": "code",
   "execution_count": 8,
   "metadata": {},
   "outputs": [],
   "source": [
    "def vector_to_matrices(vect, in_size, hid_size, out_size):\n",
    "    matrices = []\n",
    "    matrices.append(\n",
    "        np.array(vect[:in_size*hid_size]).reshape(hid_size, in_size))\n",
    "    matrices.append(np.array(\n",
    "        vect[in_size*hid_size:in_size*hid_size+hid_size*out_size]).reshape(out_size, hid_size))\n",
    "    return matrices"
   ]
  },
  {
   "cell_type": "code",
   "execution_count": 9,
   "metadata": {},
   "outputs": [],
   "source": [
    "class NeuralNetwork(object):\n",
    "    def __init__(self, input_nodes, hidden_nodes, output_nodes, size_pop,\n",
    "                 inputs_list, targets_list, crossover_rate, mutation_rate, k, generations):\n",
    "\n",
    "        self.input_list = inputs_list\n",
    "        self.targets_list = targets_list\n",
    "        self.input_nodes = input_nodes\n",
    "        self.hidden_nodes = hidden_nodes\n",
    "        self.output_nodes = output_nodes\n",
    "        self.size_pop = size_pop\n",
    "        self.k = k\n",
    "        self.num_genes = self.input_nodes*self.hidden_nodes + \\\n",
    "            self.output_nodes*self.hidden_nodes\n",
    "        self.activation_function = lambda x: 1/(1+np.exp(-x))\n",
    "        self.pop = self.generate_random_pop()\n",
    "        self.crossover_rate = crossover_rate\n",
    "        self.mutation_rate = mutation_rate\n",
    "        self.generations = generations\n",
    "        self.scores = []\n",
    "\n",
    "    def generate_random_pop(self):\n",
    "        return [np.array([np.random.normal() for i in range(self.num_genes)]) for j in range(self.size_pop)]\n",
    "\n",
    "    def accuracy(self, y, y_pred):\n",
    "        return np.mean([s == t for s, t in zip(np.argmax(y, axis=0), np.argmax(np.reshape(np.array(y_pred), y.shape), axis=0))])\n",
    "\n",
    "    def fitness(self, ind):\n",
    "        matrices = vector_to_matrices(\n",
    "            ind, self.input_nodes, self.hidden_nodes, self.output_nodes)\n",
    "        self.weights_input_to_hidden = matrices[0]\n",
    "        self.weights_hidden_to_output = matrices[1]\n",
    "        final_outputs = self.run()\n",
    "        return self.accuracy(final_outputs, self.targets_list)\n",
    "\n",
    "    def select_parents(self):\n",
    "        parents = []\n",
    "        for t in range(self.size_pop):\n",
    "            idx = np.random.randint(0, self.size_pop, size=self.k)\n",
    "            g_idx = 0\n",
    "            score = -np.inf\n",
    "            for ii in idx:\n",
    "                if self.fitness(self.pop[ii]) > score:\n",
    "                    score = self.fitness(self.pop[ii])\n",
    "                    g_idx = ii\n",
    "            parents.append(self.pop[g_idx])\n",
    "        return parents\n",
    "\n",
    "    def generate_childrens(self, parents):\n",
    "        new_pop = []\n",
    "        for i in range(self.size_pop//2):\n",
    "            parent1 = parents[np.random.choice(len(parents))]\n",
    "            parent2 = parents[np.random.choice(len(parents))]\n",
    "\n",
    "            if np.random.random() < self.crossover_rate:\n",
    "                slice_ = np.random.randint(1, len(parent1)-1)\n",
    "                son1 = np.concatenate([parent1[:slice_], parent2[slice_:]])\n",
    "                son2 = np.concatenate([parent2[:slice_], parent1[slice_:]])\n",
    "                new_pop.append(son1)\n",
    "                new_pop.append(son2)\n",
    "\n",
    "            else:\n",
    "                new_pop.append(parent1)\n",
    "                new_pop.append(parent2)\n",
    "\n",
    "        return new_pop\n",
    "\n",
    "    def mutation(self, indv):\n",
    "        new_indv = []\n",
    "        for i in indv:\n",
    "            if np.random.random() < self.mutation_rate:\n",
    "                new_indv.append(np.random.normal())\n",
    "            else:\n",
    "                new_indv.append(i)\n",
    "\n",
    "        return new_indv\n",
    "\n",
    "    def optimize(self):\n",
    "        for g in range(self.generations):\n",
    "            parents = self.select_parents()\n",
    "            new_pop = self.generate_childrens(parents)\n",
    "            new_pop = [self.mutation(indv) for indv in new_pop]\n",
    "            self.pop = new_pop\n",
    "            self.scores.append(self.evaluate())\n",
    "            print(\"Epoch {}/{} ... Mean accuracy:{}\".format(g,\n",
    "                                                            self.generations, self.evaluate()))\n",
    "\n",
    "    def run(self):\n",
    "\n",
    "        inputs = np.array(self.input_list, ndmin=2).T\n",
    "\n",
    "        hidden_inputs = np.dot(self.weights_input_to_hidden, inputs)\n",
    "        hidden_outputs = self.activation_function(hidden_inputs)\n",
    "\n",
    "        final_inputs = np.dot(self.weights_hidden_to_output, hidden_outputs)\n",
    "        final_outputs = final_inputs\n",
    "\n",
    "        return final_outputs\n",
    "\n",
    "    def evaluate(self):\n",
    "        return np.mean([self.fitness(indv) for indv in self.pop])"
   ]
  },
  {
   "cell_type": "code",
   "execution_count": 10,
   "metadata": {},
   "outputs": [],
   "source": [
    "inputs_list = list(np.array(data.drop(['Species', 'Id'], axis=1)))"
   ]
  },
  {
   "cell_type": "code",
   "execution_count": 11,
   "metadata": {},
   "outputs": [],
   "source": [
    "targets_list = list(np.array(pd.get_dummies(data.Species)))"
   ]
  },
  {
   "cell_type": "code",
   "execution_count": 12,
   "metadata": {
    "scrolled": false
   },
   "outputs": [],
   "source": [
    "nn = NeuralNetwork(input_nodes=4, hidden_nodes=50, output_nodes=3, size_pop=2000, \n",
    "                   inputs_list=inputs_list, targets_list=targets_list, crossover_rate=0.7, \n",
    "                   mutation_rate=1e-5, k=5,generations=100)"
   ]
  },
  {
   "cell_type": "code",
   "execution_count": 13,
   "metadata": {
    "scrolled": true
   },
   "outputs": [
    {
     "name": "stdout",
     "output_type": "stream",
     "text": [
      "Epoch 0/100 ... Mean accuracy:0.3353533333333333\n",
      "Epoch 1/100 ... Mean accuracy:0.33741999999999994\n",
      "Epoch 2/100 ... Mean accuracy:0.3400066666666667\n",
      "Epoch 3/100 ... Mean accuracy:0.3418066666666666\n",
      "Epoch 4/100 ... Mean accuracy:0.3432933333333333\n",
      "Epoch 5/100 ... Mean accuracy:0.34625666666666666\n",
      "Epoch 6/100 ... Mean accuracy:0.34900999999999993\n",
      "Epoch 7/100 ... Mean accuracy:0.35220333333333326\n",
      "Epoch 8/100 ... Mean accuracy:0.36089\n",
      "Epoch 9/100 ... Mean accuracy:0.3827433333333332\n",
      "Epoch 10/100 ... Mean accuracy:0.40602666666666654\n",
      "Epoch 11/100 ... Mean accuracy:0.4066433333333332\n",
      "Epoch 12/100 ... Mean accuracy:0.4066233333333332\n",
      "Epoch 13/100 ... Mean accuracy:0.4065699999999999\n",
      "Epoch 14/100 ... Mean accuracy:0.4065033333333332\n",
      "Epoch 15/100 ... Mean accuracy:0.4065166666666665\n",
      "Epoch 16/100 ... Mean accuracy:0.40646999999999983\n",
      "Epoch 17/100 ... Mean accuracy:0.40663666666666654\n",
      "Epoch 18/100 ... Mean accuracy:0.4065599999999998\n",
      "Epoch 19/100 ... Mean accuracy:0.40646999999999983\n",
      "Epoch 20/100 ... Mean accuracy:0.40653666666666655\n",
      "Epoch 21/100 ... Mean accuracy:0.4064599999999999\n",
      "Epoch 22/100 ... Mean accuracy:0.4065233333333332\n",
      "Epoch 23/100 ... Mean accuracy:0.4065833333333332\n",
      "Epoch 24/100 ... Mean accuracy:0.40659999999999985\n",
      "Epoch 25/100 ... Mean accuracy:0.4064933333333332\n",
      "Epoch 26/100 ... Mean accuracy:0.4066666666666665\n",
      "Epoch 27/100 ... Mean accuracy:0.4066266666666665\n",
      "Epoch 28/100 ... Mean accuracy:0.40664999999999984\n",
      "Epoch 29/100 ... Mean accuracy:0.40660999999999986\n",
      "Epoch 30/100 ... Mean accuracy:0.40666999999999986\n",
      "Epoch 31/100 ... Mean accuracy:0.4068466666666665\n",
      "Epoch 32/100 ... Mean accuracy:0.40781666666666655\n",
      "Epoch 33/100 ... Mean accuracy:0.41207999999999995\n",
      "Epoch 34/100 ... Mean accuracy:0.4188499999999999\n",
      "Epoch 35/100 ... Mean accuracy:0.41989666666666664\n",
      "Epoch 36/100 ... Mean accuracy:0.4198333333333334\n",
      "Epoch 37/100 ... Mean accuracy:0.41981666666666667\n",
      "Epoch 38/100 ... Mean accuracy:0.41989666666666664\n",
      "Epoch 39/100 ... Mean accuracy:0.4198466666666667\n",
      "Epoch 40/100 ... Mean accuracy:0.4198766666666667\n",
      "Epoch 41/100 ... Mean accuracy:0.41973666666666665\n",
      "Epoch 42/100 ... Mean accuracy:0.4198466666666667\n",
      "Epoch 43/100 ... Mean accuracy:0.41981999999999997\n",
      "Epoch 44/100 ... Mean accuracy:0.41975666666666667\n",
      "Epoch 45/100 ... Mean accuracy:0.4198233333333334\n",
      "Epoch 46/100 ... Mean accuracy:0.41999000000000003\n",
      "Epoch 47/100 ... Mean accuracy:0.4199133333333333\n",
      "Epoch 48/100 ... Mean accuracy:0.41990666666666665\n",
      "Epoch 49/100 ... Mean accuracy:0.4198766666666667\n",
      "Epoch 50/100 ... Mean accuracy:0.4196433333333333\n",
      "Epoch 51/100 ... Mean accuracy:0.4198133333333333\n",
      "Epoch 52/100 ... Mean accuracy:0.41980666666666666\n",
      "Epoch 53/100 ... Mean accuracy:0.4199233333333333\n",
      "Epoch 54/100 ... Mean accuracy:0.41985999999999996\n",
      "Epoch 55/100 ... Mean accuracy:0.41974333333333336\n",
      "Epoch 56/100 ... Mean accuracy:0.41985666666666666\n",
      "Epoch 57/100 ... Mean accuracy:0.4198033333333333\n",
      "Epoch 58/100 ... Mean accuracy:0.41973999999999995\n",
      "Epoch 59/100 ... Mean accuracy:0.4199666666666667\n",
      "Epoch 60/100 ... Mean accuracy:0.4198733333333333\n",
      "Epoch 61/100 ... Mean accuracy:0.4198266666666667\n",
      "Epoch 62/100 ... Mean accuracy:0.41972666666666664\n",
      "Epoch 63/100 ... Mean accuracy:0.41995333333333335\n",
      "Epoch 64/100 ... Mean accuracy:0.41986666666666667\n",
      "Epoch 65/100 ... Mean accuracy:0.4198066666666666\n",
      "Epoch 66/100 ... Mean accuracy:0.41975666666666667\n",
      "Epoch 67/100 ... Mean accuracy:0.41978\n",
      "Epoch 68/100 ... Mean accuracy:0.41983666666666664\n",
      "Epoch 69/100 ... Mean accuracy:0.4197333333333333\n",
      "Epoch 70/100 ... Mean accuracy:0.41972999999999994\n",
      "Epoch 71/100 ... Mean accuracy:0.41975666666666667\n",
      "Epoch 72/100 ... Mean accuracy:0.41969\n",
      "Epoch 73/100 ... Mean accuracy:0.41977\n",
      "Epoch 74/100 ... Mean accuracy:0.41985999999999996\n",
      "Epoch 75/100 ... Mean accuracy:0.41988\n",
      "Epoch 76/100 ... Mean accuracy:0.4197666666666667\n",
      "Epoch 77/100 ... Mean accuracy:0.4198466666666667\n",
      "Epoch 78/100 ... Mean accuracy:0.41973\n",
      "Epoch 79/100 ... Mean accuracy:0.4198033333333333\n",
      "Epoch 80/100 ... Mean accuracy:0.41984333333333335\n",
      "Epoch 81/100 ... Mean accuracy:0.41985666666666666\n",
      "Epoch 82/100 ... Mean accuracy:0.41986333333333337\n",
      "Epoch 83/100 ... Mean accuracy:0.41973\n",
      "Epoch 84/100 ... Mean accuracy:0.41989\n",
      "Epoch 85/100 ... Mean accuracy:0.4199166666666666\n",
      "Epoch 86/100 ... Mean accuracy:0.41981999999999997\n",
      "Epoch 87/100 ... Mean accuracy:0.41988\n",
      "Epoch 88/100 ... Mean accuracy:0.4198266666666667\n",
      "Epoch 89/100 ... Mean accuracy:0.41994666666666663\n",
      "Epoch 90/100 ... Mean accuracy:0.41990666666666665\n",
      "Epoch 91/100 ... Mean accuracy:0.41995333333333335\n",
      "Epoch 92/100 ... Mean accuracy:0.41990666666666665\n",
      "Epoch 93/100 ... Mean accuracy:0.41973333333333335\n",
      "Epoch 94/100 ... Mean accuracy:0.41983\n",
      "Epoch 95/100 ... Mean accuracy:0.41982666666666657\n",
      "Epoch 96/100 ... Mean accuracy:0.4196333333333333\n",
      "Epoch 97/100 ... Mean accuracy:0.41984\n",
      "Epoch 98/100 ... Mean accuracy:0.41990999999999995\n",
      "Epoch 99/100 ... Mean accuracy:0.4197833333333333\n"
     ]
    }
   ],
   "source": [
    "nn.optimize()"
   ]
  },
  {
   "cell_type": "code",
   "execution_count": 15,
   "metadata": {},
   "outputs": [
    {
     "data": {
      "text/plain": [
       "[<matplotlib.lines.Line2D at 0x7f7d48a93400>]"
      ]
     },
     "execution_count": 15,
     "metadata": {},
     "output_type": "execute_result"
    },
    {
     "data": {
      "image/png": "[encoded data removed]",
      "text/plain": [
       "<Figure size 432x288 with 1 Axes>"
      ]
     },
     "metadata": {
      "needs_background": "light"
     },
     "output_type": "display_data"
    }
   ],
   "source": [
    "plt.plot(nn.scores)"
   ]
  }
 ],
 "metadata": {
  "kernelspec": {
   "display_name": "Python 3",
   "language": "python",
   "name": "python3"
  },
  "language_info": {
   "codemirror_mode": {
    "name": "ipython",
    "version": 3
   },
   "file_extension": ".py",
   "mimetype": "text/x-python",
   "name": "python",
   "nbconvert_exporter": "python",
   "pygments_lexer": "ipython3",
   "version": "3.7.3"
  }
 },
 "nbformat": 4,
 "nbformat_minor": 2
}
